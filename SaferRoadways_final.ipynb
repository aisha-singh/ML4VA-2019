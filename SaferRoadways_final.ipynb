{
  "nbformat": 4,
  "nbformat_minor": 0,
  "metadata": {
    "colab": {
      "name": "SaferRoadways_final.ipynb",
      "provenance": [],
      "collapsed_sections": [],
      "toc_visible": true
    },
    "kernelspec": {
      "name": "python3",
      "display_name": "Python 3"
    },
    "accelerator": "TPU"
  },
  "cells": [
    {
      "cell_type": "markdown",
      "metadata": {
        "id": "HHNSvQm1WJsg",
        "colab_type": "text"
      },
      "source": [
        "# Safer Roadways for Virginia\n",
        "\n",
        "*An ML4VA project at the University of Virginia, Fall 2019*\n",
        "\n",
        "Tyra Krehbiel (tik5eh) &\n",
        "Aisha Singh (as9jf)\n"
      ]
    },
    {
      "cell_type": "markdown",
      "metadata": {
        "id": "8lS9hiRWX0mK",
        "colab_type": "text"
      },
      "source": [
        "# Step 1. Setup and Big-Picture"
      ]
    },
    {
      "cell_type": "code",
      "metadata": {
        "id": "3SRbWwSfWq1e",
        "colab_type": "code",
        "colab": {}
      },
      "source": [
        "# Python ≥3.5 is required\n",
        "import sys\n",
        "assert sys.version_info >= (3, 5)\n",
        "\n",
        "# Scikit-Learn ≥0.20 is required\n",
        "import sklearn\n",
        "assert sklearn.__version__ >= \"0.20\"\n",
        "\n",
        "# Common imports\n",
        "import numpy as np\n",
        "import pandas as pd\n",
        "import sklearn.linear_model\n",
        "import matplotlib.pyplot as plt\n",
        "import os\n",
        "from sklearn.model_selection import train_test_split\n",
        "\n",
        "# to make this notebook's output stable across runs\n",
        "np.random.seed(42)\n",
        "\n",
        "# To plot pretty figures\n",
        "%matplotlib inline\n",
        "import matplotlib as mpl\n",
        "import matplotlib.pyplot as plt\n",
        "mpl.rc('axes', labelsize=14)\n",
        "mpl.rc('xtick', labelsize=12)\n",
        "mpl.rc('ytick', labelsize=12)\n",
        "\n",
        "# Where to save the figures\n",
        "PROJECT_ROOT_DIR = \".\"\n",
        "CHAPTER_ID = \"ML4VA\"\n",
        "IMAGES_PATH = os.path.join(PROJECT_ROOT_DIR, \"images\", CHAPTER_ID)\n",
        "os.makedirs(IMAGES_PATH, exist_ok=True)\n",
        "\n",
        "def save_fig(fig_id, tight_layout=True, fig_extension=\"png\", resolution=300):\n",
        "    path = os.path.join(IMAGES_PATH, fig_id + \".\" + fig_extension)\n",
        "    print(\"Saving figure\", fig_id)\n",
        "    if tight_layout:\n",
        "        plt.tight_layout()\n",
        "    plt.savefig(path, format=fig_extension, dpi=resolution)\n"
      ],
      "execution_count": 0,
      "outputs": []
    },
    {
      "cell_type": "markdown",
      "metadata": {
        "id": "RxpfYDPmX_F1",
        "colab_type": "text"
      },
      "source": [
        "# Step 2: Get the Data"
      ]
    },
    {
      "cell_type": "code",
      "metadata": {
        "id": "PyXHWmNGXFJ-",
        "colab_type": "code",
        "outputId": "19f55354-7447-48e3-9e04-56d85465168c",
        "colab": {
          "base_uri": "https://localhost:8080/",
          "height": 633
        }
      },
      "source": [
        "accidents = pd.read_csv(\"Virginia_Crashes_official.csv\")\n",
        "accidents.head()"
      ],
      "execution_count": 4,
      "outputs": [
        {
          "output_type": "execute_result",
          "data": {
            "text/html": [
              "<div>\n",
              "<style scoped>\n",
              "    .dataframe tbody tr th:only-of-type {\n",
              "        vertical-align: middle;\n",
              "    }\n",
              "\n",
              "    .dataframe tbody tr th {\n",
              "        vertical-align: top;\n",
              "    }\n",
              "\n",
              "    .dataframe thead th {\n",
              "        text-align: right;\n",
              "    }\n",
              "</style>\n",
              "<table border=\"1\" class=\"dataframe\">\n",
              "  <thead>\n",
              "    <tr style=\"text-align: right;\">\n",
              "      <th></th>\n",
              "      <th>Unnamed: 0</th>\n",
              "      <th>X</th>\n",
              "      <th>Y</th>\n",
              "      <th>OBJECTID</th>\n",
              "      <th>A_Crash</th>\n",
              "      <th>A_People</th>\n",
              "      <th>B_Crash</th>\n",
              "      <th>B_People</th>\n",
              "      <th>Collision_Type</th>\n",
              "      <th>Crash_Dt</th>\n",
              "      <th>Crash_Military_Tm</th>\n",
              "      <th>Crash_Severity</th>\n",
              "      <th>Crash_Year</th>\n",
              "      <th>C_Crash</th>\n",
              "      <th>C_People</th>\n",
              "      <th>Physical_Juris</th>\n",
              "      <th>VDOT_District</th>\n",
              "      <th>LATITUDE</th>\n",
              "      <th>Plan_District</th>\n",
              "      <th>DIAGRAM</th>\n",
              "      <th>Document_Nbr</th>\n",
              "      <th>Driverage</th>\n",
              "      <th>Drivergen</th>\n",
              "      <th>Driverinjurytype</th>\n",
              "      <th>Driver_Action_Type_Cd</th>\n",
              "      <th>District</th>\n",
              "      <th>FAC</th>\n",
              "      <th>Fatal_Crashes</th>\n",
              "      <th>FUN</th>\n",
              "      <th>LONGITUDE</th>\n",
              "      <th>LOCAL_CASE_CD</th>\n",
              "      <th>Mpo_Name</th>\n",
              "      <th>Passage</th>\n",
              "      <th>Passgen</th>\n",
              "      <th>Passinjurytype</th>\n",
              "      <th>Pdo_Crash</th>\n",
              "      <th>Pedage</th>\n",
              "      <th>Pedgen</th>\n",
              "      <th>Pedinjurytype</th>\n",
              "      <th>Persons_Killed</th>\n",
              "      <th>VSP_Used</th>\n",
              "      <th>Planning</th>\n",
              "      <th>Rns_Mp</th>\n",
              "      <th>Roadway_Surface_Cond</th>\n",
              "      <th>Route_Or_Street_Nm</th>\n",
              "      <th>Rte_Nm</th>\n",
              "      <th>Vehiclenumber</th>\n",
              "      <th>Vehicle_Body_Type_Cd</th>\n",
              "      <th>Weather_Condition</th>\n",
              "    </tr>\n",
              "  </thead>\n",
              "  <tbody>\n",
              "    <tr>\n",
              "      <th>0</th>\n",
              "      <td>2430</td>\n",
              "      <td>-77.069382</td>\n",
              "      <td>38.853158</td>\n",
              "      <td>5431</td>\n",
              "      <td>0</td>\n",
              "      <td>0</td>\n",
              "      <td>1</td>\n",
              "      <td>1</td>\n",
              "      <td>12. Ped</td>\n",
              "      <td>2017-09-20T00:00:00.000Z</td>\n",
              "      <td>1702</td>\n",
              "      <td>B.Visible Injury</td>\n",
              "      <td>2017</td>\n",
              "      <td>0</td>\n",
              "      <td>0</td>\n",
              "      <td>0.Arlington</td>\n",
              "      <td>9.Northern Virginia</td>\n",
              "      <td>38.85315</td>\n",
              "      <td>Northern Virginia</td>\n",
              "      <td>http://rns/APP/Images/CrashDiagramProxy.aspx?d...</td>\n",
              "      <td>172635325</td>\n",
              "      <td>86</td>\n",
              "      <td>Male</td>\n",
              "      <td>PDO</td>\n",
              "      <td>11. Did Not Have Right-of-Way</td>\n",
              "      <td>9</td>\n",
              "      <td>0.Two-way, non-divided</td>\n",
              "      <td>0</td>\n",
              "      <td>I.Urban Collector</td>\n",
              "      <td>-77.06938</td>\n",
              "      <td>2017-09200201</td>\n",
              "      <td>Northern Virginia Portion of The Metropolitan ...</td>\n",
              "      <td>NaN</td>\n",
              "      <td>NaN</td>\n",
              "      <td>NaN</td>\n",
              "      <td>0</td>\n",
              "      <td>12</td>\n",
              "      <td>Female</td>\n",
              "      <td>B</td>\n",
              "      <td>0</td>\n",
              "      <td>7</td>\n",
              "      <td>Northern Virginia</td>\n",
              "      <td>0.236454</td>\n",
              "      <td>1. Dry</td>\n",
              "      <td>23RD ST S</td>\n",
              "      <td>R-VA000SC06708WB</td>\n",
              "      <td>1</td>\n",
              "      <td>1. Passenger car</td>\n",
              "      <td>1. No Adverse Condition (Clear/Cloudy)</td>\n",
              "    </tr>\n",
              "    <tr>\n",
              "      <th>1</th>\n",
              "      <td>2521</td>\n",
              "      <td>-78.182833</td>\n",
              "      <td>38.910238</td>\n",
              "      <td>5522</td>\n",
              "      <td>0</td>\n",
              "      <td>0</td>\n",
              "      <td>1</td>\n",
              "      <td>1</td>\n",
              "      <td>12. Ped</td>\n",
              "      <td>2018-12-03T00:00:00.000Z</td>\n",
              "      <td>1756</td>\n",
              "      <td>B.Visible Injury</td>\n",
              "      <td>2018</td>\n",
              "      <td>0</td>\n",
              "      <td>0</td>\n",
              "      <td>112.Front Royal</td>\n",
              "      <td>8.Staunton</td>\n",
              "      <td>38.91023</td>\n",
              "      <td>Northern Shenandoah Valley</td>\n",
              "      <td>http://rns/APP/Images/CrashDiagramProxy.aspx?d...</td>\n",
              "      <td>183385261</td>\n",
              "      <td>50</td>\n",
              "      <td>Female</td>\n",
              "      <td>PDO</td>\n",
              "      <td>1. No Improper Action</td>\n",
              "      <td>8</td>\n",
              "      <td>0.Two-way, non-divided</td>\n",
              "      <td>0</td>\n",
              "      <td>E.Urban Other Principal Arterials; Connecting ...</td>\n",
              "      <td>-78.18283</td>\n",
              "      <td>18120105</td>\n",
              "      <td>NaN</td>\n",
              "      <td>NaN</td>\n",
              "      <td>NaN</td>\n",
              "      <td>NaN</td>\n",
              "      <td>0</td>\n",
              "      <td>68</td>\n",
              "      <td>Female</td>\n",
              "      <td>B</td>\n",
              "      <td>0</td>\n",
              "      <td>2</td>\n",
              "      <td>Northern Shenandoah Valley</td>\n",
              "      <td>29.686989</td>\n",
              "      <td>1. Dry</td>\n",
              "      <td>865 JOHN MARSHALL HWY</td>\n",
              "      <td>R-VA   SR00055EB</td>\n",
              "      <td>1</td>\n",
              "      <td>22. Truck - Sport Utility Vehicle (SUV)</td>\n",
              "      <td>1. No Adverse Condition (Clear/Cloudy)</td>\n",
              "    </tr>\n",
              "    <tr>\n",
              "      <th>2</th>\n",
              "      <td>3565</td>\n",
              "      <td>-77.068982</td>\n",
              "      <td>38.844698</td>\n",
              "      <td>2566</td>\n",
              "      <td>0</td>\n",
              "      <td>0</td>\n",
              "      <td>1</td>\n",
              "      <td>1</td>\n",
              "      <td>12. Ped</td>\n",
              "      <td>2019-04-03T00:00:00.000Z</td>\n",
              "      <td>730</td>\n",
              "      <td>B.Visible Injury</td>\n",
              "      <td>2019</td>\n",
              "      <td>0</td>\n",
              "      <td>0</td>\n",
              "      <td>0.Arlington</td>\n",
              "      <td>9.Northern Virginia</td>\n",
              "      <td>38.84469</td>\n",
              "      <td>Northern Virginia</td>\n",
              "      <td>http://rns/APP/Images/CrashDiagramProxy.aspx?d...</td>\n",
              "      <td>190935078</td>\n",
              "      <td>23</td>\n",
              "      <td>Female</td>\n",
              "      <td>PDO</td>\n",
              "      <td>20. Disregarded Officer or Flagger</td>\n",
              "      <td>9</td>\n",
              "      <td>1.Divided, no control of access</td>\n",
              "      <td>0</td>\n",
              "      <td>E.Urban Other Principal Arterials; Connecting ...</td>\n",
              "      <td>-77.06898</td>\n",
              "      <td>2019-04030044</td>\n",
              "      <td>Northern Virginia Portion of The Metropolitan ...</td>\n",
              "      <td>NaN</td>\n",
              "      <td>NaN</td>\n",
              "      <td>NaN</td>\n",
              "      <td>0</td>\n",
              "      <td>NaN</td>\n",
              "      <td>Male</td>\n",
              "      <td>B</td>\n",
              "      <td>0</td>\n",
              "      <td>7</td>\n",
              "      <td>Northern Virginia</td>\n",
              "      <td>8.143990</td>\n",
              "      <td>1. Dry</td>\n",
              "      <td>2900 SOUTH GLEBE ROAD</td>\n",
              "      <td>R-VA   SR00120EB</td>\n",
              "      <td>1</td>\n",
              "      <td>1. Passenger car</td>\n",
              "      <td>1. No Adverse Condition (Clear/Cloudy)</td>\n",
              "    </tr>\n",
              "    <tr>\n",
              "      <th>3</th>\n",
              "      <td>3566</td>\n",
              "      <td>-76.250002</td>\n",
              "      <td>36.861097</td>\n",
              "      <td>2567</td>\n",
              "      <td>0</td>\n",
              "      <td>0</td>\n",
              "      <td>0</td>\n",
              "      <td>0</td>\n",
              "      <td>12. Ped</td>\n",
              "      <td>2013-04-11T00:00:00.000Z</td>\n",
              "      <td>2025</td>\n",
              "      <td>C.Nonvisible Injury</td>\n",
              "      <td>2013</td>\n",
              "      <td>1</td>\n",
              "      <td>1</td>\n",
              "      <td>122.Norfolk</td>\n",
              "      <td>5.Hampton Roads</td>\n",
              "      <td>36.86109</td>\n",
              "      <td>Hampton Roads</td>\n",
              "      <td>http://rns/APP/Images/CrashDiagramProxy.aspx?d...</td>\n",
              "      <td>131930109</td>\n",
              "      <td>NaN</td>\n",
              "      <td>Not Provided</td>\n",
              "      <td>PDO</td>\n",
              "      <td>1. No Improper Action</td>\n",
              "      <td>5</td>\n",
              "      <td>0.Two-way, non-divided</td>\n",
              "      <td>0</td>\n",
              "      <td>H.Urban Minor Arterial</td>\n",
              "      <td>-76.25000</td>\n",
              "      <td>P13041100628</td>\n",
              "      <td>Hampton Roads Transportation Planning Organiza...</td>\n",
              "      <td>NaN</td>\n",
              "      <td>NaN</td>\n",
              "      <td>NaN</td>\n",
              "      <td>0</td>\n",
              "      <td>53</td>\n",
              "      <td>Male</td>\n",
              "      <td>C</td>\n",
              "      <td>0</td>\n",
              "      <td>5</td>\n",
              "      <td>Hampton Roads</td>\n",
              "      <td>0.574902</td>\n",
              "      <td>1. Dry</td>\n",
              "      <td>2135 BALLENTINE BLVD</td>\n",
              "      <td>R-VA122UR08573SB</td>\n",
              "      <td>1</td>\n",
              "      <td>2. Truck - Pick-up/Passenger Truck</td>\n",
              "      <td>1. No Adverse Condition (Clear/Cloudy)</td>\n",
              "    </tr>\n",
              "    <tr>\n",
              "      <th>4</th>\n",
              "      <td>3567</td>\n",
              "      <td>-77.439182</td>\n",
              "      <td>37.544117</td>\n",
              "      <td>2568</td>\n",
              "      <td>0</td>\n",
              "      <td>0</td>\n",
              "      <td>0</td>\n",
              "      <td>0</td>\n",
              "      <td>12. Ped</td>\n",
              "      <td>2013-01-04T00:00:00.000Z</td>\n",
              "      <td>1253</td>\n",
              "      <td>C.Nonvisible Injury</td>\n",
              "      <td>2013</td>\n",
              "      <td>1</td>\n",
              "      <td>1</td>\n",
              "      <td>127.Richmond</td>\n",
              "      <td>4.Richmond</td>\n",
              "      <td>37.54411</td>\n",
              "      <td>Richmond Regional</td>\n",
              "      <td>http://rns/APP/Images/CrashDiagramProxy.aspx?d...</td>\n",
              "      <td>130940000</td>\n",
              "      <td>NaN</td>\n",
              "      <td>Not Provided</td>\n",
              "      <td>PDO</td>\n",
              "      <td>34. Hit and Run</td>\n",
              "      <td>4</td>\n",
              "      <td>1.Divided, no control of access</td>\n",
              "      <td>0</td>\n",
              "      <td>E.Urban Other Principal Arterials; Connecting ...</td>\n",
              "      <td>-77.43918</td>\n",
              "      <td>201301040235</td>\n",
              "      <td>Richmond Transportation Planning Organization</td>\n",
              "      <td>NaN</td>\n",
              "      <td>NaN</td>\n",
              "      <td>NaN</td>\n",
              "      <td>0</td>\n",
              "      <td>23</td>\n",
              "      <td>Male</td>\n",
              "      <td>C</td>\n",
              "      <td>0</td>\n",
              "      <td>1</td>\n",
              "      <td>Richmond Regional</td>\n",
              "      <td>166.058996</td>\n",
              "      <td>1. Dry</td>\n",
              "      <td>N 3RD ST W BROAD ST</td>\n",
              "      <td>R-VA   US00250WB</td>\n",
              "      <td>1</td>\n",
              "      <td>1. Passenger car</td>\n",
              "      <td>1. No Adverse Condition (Clear/Cloudy)</td>\n",
              "    </tr>\n",
              "  </tbody>\n",
              "</table>\n",
              "</div>"
            ],
            "text/plain": [
              "   Unnamed: 0  ...                       Weather_Condition\n",
              "0        2430  ...  1. No Adverse Condition (Clear/Cloudy)\n",
              "1        2521  ...  1. No Adverse Condition (Clear/Cloudy)\n",
              "2        3565  ...  1. No Adverse Condition (Clear/Cloudy)\n",
              "3        3566  ...  1. No Adverse Condition (Clear/Cloudy)\n",
              "4        3567  ...  1. No Adverse Condition (Clear/Cloudy)\n",
              "\n",
              "[5 rows x 49 columns]"
            ]
          },
          "metadata": {
            "tags": []
          },
          "execution_count": 4
        }
      ]
    },
    {
      "cell_type": "code",
      "metadata": {
        "id": "BAYKaQ0A8OMr",
        "colab_type": "code",
        "outputId": "882835ba-9ae2-4160-ec06-2b0aca980333",
        "colab": {
          "base_uri": "https://localhost:8080/",
          "height": 328
        }
      },
      "source": [
        "accidents[\"Collision_Type\"].value_counts()"
      ],
      "execution_count": 5,
      "outputs": [
        {
          "output_type": "execute_result",
          "data": {
            "text/plain": [
              "12. Ped                              9666\n",
              "2. Angle                              405\n",
              "16. Other                             248\n",
              "1. Rear End                           190\n",
              "3. Head On                            119\n",
              "4. Sideswipe - Same Direction         118\n",
              "9. Fixed Object - Off Road             93\n",
              "15. Backed Into                        62\n",
              "8. Non-Collision                       30\n",
              "5. Sideswipe - Opposite Direction      24\n",
              "13. Bicyclist                          19\n",
              "6. Fixed Object in Road                15\n",
              "11. Other Animal                        4\n",
              "10. Deer                                2\n",
              "7. Train                                2\n",
              "14. Motorcyclist                        1\n",
              "Not Provided                            1\n",
              "Name: Collision_Type, dtype: int64"
            ]
          },
          "metadata": {
            "tags": []
          },
          "execution_count": 5
        }
      ]
    },
    {
      "cell_type": "code",
      "metadata": {
        "id": "MRq4tVAP8W50",
        "colab_type": "code",
        "outputId": "8ce3b61a-d442-455d-feb0-42c009dff197",
        "colab": {
          "base_uri": "https://localhost:8080/",
          "height": 846
        }
      },
      "source": [
        "accidents[\"Pedinjurytype\"].value_counts()"
      ],
      "execution_count": 6,
      "outputs": [
        {
          "output_type": "execute_result",
          "data": {
            "text/plain": [
              "B                  5646\n",
              "A                  2646\n",
              "C                  1577\n",
              "K                   622\n",
              "B,B                 163\n",
              "A,A                  68\n",
              "A,B                  46\n",
              "C,C                  45\n",
              "B,C                  37\n",
              "C,B                  18\n",
              "A,C                  17\n",
              "B,B,B                15\n",
              "K,A                  15\n",
              "B,A                  13\n",
              "A,A,A                 8\n",
              "PDO                   7\n",
              "K,B                   6\n",
              "C,C,C                 5\n",
              "C,A                   5\n",
              "K,K                   5\n",
              "A,A,B                 3\n",
              "A,K                   3\n",
              "B,B,C                 2\n",
              "K,A,A                 2\n",
              "A,B,B                 2\n",
              "B,B,B,B,B             2\n",
              "B,A,A                 1\n",
              "B,K,K                 1\n",
              "K,K,K                 1\n",
              "B,B,B,B,B,B           1\n",
              "K,C,C                 1\n",
              "B,A,B,B,B,B,B,B       1\n",
              "A,K,A,B               1\n",
              "A,B,C                 1\n",
              "B,B,B,B               1\n",
              "C,B,B                 1\n",
              "B,C,C,C               1\n",
              "B,A,C                 1\n",
              "A,A,K                 1\n",
              "A,A,A,B,B             1\n",
              "A,A,B,C               1\n",
              "K,C                   1\n",
              "A,B,B,B               1\n",
              "B,B,A                 1\n",
              "B,A,A,B               1\n",
              "K,A,B                 1\n",
              "B,C,C                 1\n",
              "Name: Pedinjurytype, dtype: int64"
            ]
          },
          "metadata": {
            "tags": []
          },
          "execution_count": 6
        }
      ]
    },
    {
      "cell_type": "code",
      "metadata": {
        "id": "FSarkxG1UpfN",
        "colab_type": "code",
        "outputId": "f3874332-ab51-4bec-93a7-79ac0cfcf465",
        "colab": {
          "base_uri": "https://localhost:8080/",
          "height": 345
        }
      },
      "source": [
        "# remove unnecessary attributes\n",
        "# X = longitude, Y = latitude\n",
        "accidents = accidents.drop([\"OBJECTID\", \"VDOT_District\",\"Plan_District\",\n",
        "                            \"Document_Nbr\",\"LOCAL_CASE_CD\",\"Mpo_Name\", \n",
        "                            \"A_Crash\", \"A_People\", \"B_Crash\", \"B_People\", \n",
        "                            \"C_Crash\", \"C_People\", \"DIAGRAM\", \"Persons_Killed\",\n",
        "                            \"LONGITUDE\", \"LATITUDE\",\"Rns_Mp\", \"Passage\",\n",
        "                            \"Physical_Juris\", \"Pdo_Crash\", \"Unnamed: 0\",\n",
        "                            \"Driverage\",\"Drivergen\",\"Driverinjurytype\", \n",
        "                            \"Driver_Action_Type_Cd\", \"FAC\", \"FUN\", \"Passgen\", \n",
        "                            \"Route_Or_Street_Nm\", \"Passinjurytype\", \"Planning\", \n",
        "                            \"Vehiclenumber\", \"Roadway_Surface_Cond\", \"VSP_Used\",\n",
        "                            \"Vehicle_Body_Type_Cd\"], axis=1)\n",
        "accidents.info()"
      ],
      "execution_count": 7,
      "outputs": [
        {
          "output_type": "stream",
          "text": [
            "<class 'pandas.core.frame.DataFrame'>\n",
            "RangeIndex: 10999 entries, 0 to 10998\n",
            "Data columns (total 14 columns):\n",
            "X                    10069 non-null float64\n",
            "Y                    10069 non-null float64\n",
            "Collision_Type       10999 non-null object\n",
            "Crash_Dt             10999 non-null object\n",
            "Crash_Military_Tm    10999 non-null int64\n",
            "Crash_Severity       10999 non-null object\n",
            "Crash_Year           10999 non-null int64\n",
            "District             10999 non-null int64\n",
            "Fatal_Crashes        10999 non-null int64\n",
            "Pedage               10765 non-null object\n",
            "Pedgen               10999 non-null object\n",
            "Pedinjurytype        10999 non-null object\n",
            "Rte_Nm               10999 non-null object\n",
            "Weather_Condition    10999 non-null object\n",
            "dtypes: float64(2), int64(4), object(8)\n",
            "memory usage: 1.2+ MB\n"
          ],
          "name": "stdout"
        }
      ]
    },
    {
      "cell_type": "code",
      "metadata": {
        "id": "YkSh3VIXUtei",
        "colab_type": "code",
        "outputId": "b422c276-498b-4e26-d9fb-8bb790e96c6c",
        "colab": {
          "base_uri": "https://localhost:8080/",
          "height": 288
        }
      },
      "source": [
        "accidents.describe()"
      ],
      "execution_count": 8,
      "outputs": [
        {
          "output_type": "execute_result",
          "data": {
            "text/html": [
              "<div>\n",
              "<style scoped>\n",
              "    .dataframe tbody tr th:only-of-type {\n",
              "        vertical-align: middle;\n",
              "    }\n",
              "\n",
              "    .dataframe tbody tr th {\n",
              "        vertical-align: top;\n",
              "    }\n",
              "\n",
              "    .dataframe thead th {\n",
              "        text-align: right;\n",
              "    }\n",
              "</style>\n",
              "<table border=\"1\" class=\"dataframe\">\n",
              "  <thead>\n",
              "    <tr style=\"text-align: right;\">\n",
              "      <th></th>\n",
              "      <th>X</th>\n",
              "      <th>Y</th>\n",
              "      <th>Crash_Military_Tm</th>\n",
              "      <th>Crash_Year</th>\n",
              "      <th>District</th>\n",
              "      <th>Fatal_Crashes</th>\n",
              "    </tr>\n",
              "  </thead>\n",
              "  <tbody>\n",
              "    <tr>\n",
              "      <th>count</th>\n",
              "      <td>10069.000000</td>\n",
              "      <td>10069.000000</td>\n",
              "      <td>10999.000000</td>\n",
              "      <td>10999.000000</td>\n",
              "      <td>10999.000000</td>\n",
              "      <td>10999.000000</td>\n",
              "    </tr>\n",
              "    <tr>\n",
              "      <th>mean</th>\n",
              "      <td>-77.486264</td>\n",
              "      <td>37.838733</td>\n",
              "      <td>1461.434494</td>\n",
              "      <td>2015.765615</td>\n",
              "      <td>6.030912</td>\n",
              "      <td>0.060460</td>\n",
              "    </tr>\n",
              "    <tr>\n",
              "      <th>std</th>\n",
              "      <td>1.194357</td>\n",
              "      <td>0.837106</td>\n",
              "      <td>575.230110</td>\n",
              "      <td>1.902223</td>\n",
              "      <td>2.431560</td>\n",
              "      <td>0.238348</td>\n",
              "    </tr>\n",
              "    <tr>\n",
              "      <th>min</th>\n",
              "      <td>-83.365154</td>\n",
              "      <td>36.545367</td>\n",
              "      <td>0.000000</td>\n",
              "      <td>2013.000000</td>\n",
              "      <td>1.000000</td>\n",
              "      <td>0.000000</td>\n",
              "    </tr>\n",
              "    <tr>\n",
              "      <th>25%</th>\n",
              "      <td>-77.523702</td>\n",
              "      <td>37.043787</td>\n",
              "      <td>1040.000000</td>\n",
              "      <td>2014.000000</td>\n",
              "      <td>4.000000</td>\n",
              "      <td>0.000000</td>\n",
              "    </tr>\n",
              "    <tr>\n",
              "      <th>50%</th>\n",
              "      <td>-77.310512</td>\n",
              "      <td>37.558037</td>\n",
              "      <td>1609.000000</td>\n",
              "      <td>2016.000000</td>\n",
              "      <td>5.000000</td>\n",
              "      <td>0.000000</td>\n",
              "    </tr>\n",
              "    <tr>\n",
              "      <th>75%</th>\n",
              "      <td>-76.752302</td>\n",
              "      <td>38.805008</td>\n",
              "      <td>1914.000000</td>\n",
              "      <td>2017.000000</td>\n",
              "      <td>9.000000</td>\n",
              "      <td>0.000000</td>\n",
              "    </tr>\n",
              "    <tr>\n",
              "      <th>max</th>\n",
              "      <td>-75.365792</td>\n",
              "      <td>39.400798</td>\n",
              "      <td>2359.000000</td>\n",
              "      <td>2019.000000</td>\n",
              "      <td>9.000000</td>\n",
              "      <td>1.000000</td>\n",
              "    </tr>\n",
              "  </tbody>\n",
              "</table>\n",
              "</div>"
            ],
            "text/plain": [
              "                  X             Y  ...      District  Fatal_Crashes\n",
              "count  10069.000000  10069.000000  ...  10999.000000   10999.000000\n",
              "mean     -77.486264     37.838733  ...      6.030912       0.060460\n",
              "std        1.194357      0.837106  ...      2.431560       0.238348\n",
              "min      -83.365154     36.545367  ...      1.000000       0.000000\n",
              "25%      -77.523702     37.043787  ...      4.000000       0.000000\n",
              "50%      -77.310512     37.558037  ...      5.000000       0.000000\n",
              "75%      -76.752302     38.805008  ...      9.000000       0.000000\n",
              "max      -75.365792     39.400798  ...      9.000000       1.000000\n",
              "\n",
              "[8 rows x 6 columns]"
            ]
          },
          "metadata": {
            "tags": []
          },
          "execution_count": 8
        }
      ]
    },
    {
      "cell_type": "code",
      "metadata": {
        "id": "r3GRzeLgUvCm",
        "colab_type": "code",
        "outputId": "c63465a8-896e-4a8e-ebe8-96f92dab82c6",
        "colab": {
          "base_uri": "https://localhost:8080/",
          "height": 328
        }
      },
      "source": [
        "accidents[\"Collision_Type\"].value_counts()"
      ],
      "execution_count": 9,
      "outputs": [
        {
          "output_type": "execute_result",
          "data": {
            "text/plain": [
              "12. Ped                              9666\n",
              "2. Angle                              405\n",
              "16. Other                             248\n",
              "1. Rear End                           190\n",
              "3. Head On                            119\n",
              "4. Sideswipe - Same Direction         118\n",
              "9. Fixed Object - Off Road             93\n",
              "15. Backed Into                        62\n",
              "8. Non-Collision                       30\n",
              "5. Sideswipe - Opposite Direction      24\n",
              "13. Bicyclist                          19\n",
              "6. Fixed Object in Road                15\n",
              "11. Other Animal                        4\n",
              "10. Deer                                2\n",
              "7. Train                                2\n",
              "14. Motorcyclist                        1\n",
              "Not Provided                            1\n",
              "Name: Collision_Type, dtype: int64"
            ]
          },
          "metadata": {
            "tags": []
          },
          "execution_count": 9
        }
      ]
    },
    {
      "cell_type": "code",
      "metadata": {
        "id": "JYmkwL_B-taM",
        "colab_type": "code",
        "outputId": "6b40ad1f-6055-4ff2-fff2-9a402bc9836d",
        "colab": {
          "base_uri": "https://localhost:8080/",
          "height": 328
        }
      },
      "source": [
        "# encode crash severity categories\n",
        "replace_map = {'Collision_Type': {'1. Rear End': 1, '2. Angle': 2, \n",
        "                                  '3. Head On': 3, '4. Sideswipe - Same Direction': 4,\n",
        "                                  '5. Sideswipe - Opposite Direction': 5, '6. Fixed Object in Road':6,\n",
        "                                  '7. Train':7,'8. Non-Collision':8,'9. Fixed Object - Off Road':9,\n",
        "                                  '10. Deer':10,'11. Other Animal':11,'12. Ped':12,\n",
        "                                  '13. Bicyclist':13,'14. Motorcyclist':14,'15. Backed Into':15,\n",
        "                                  '16. Other':16,'Not Provided':17}}\n",
        "\n",
        "labels = accidents['Collision_Type'].astype('category').cat.categories.tolist()\n",
        "\n",
        "accidents.replace(replace_map, inplace=True)\n",
        "\n",
        "accidents[\"Collision_Type\"].value_counts()"
      ],
      "execution_count": 10,
      "outputs": [
        {
          "output_type": "execute_result",
          "data": {
            "text/plain": [
              "12    9666\n",
              "2      405\n",
              "16     248\n",
              "1      190\n",
              "3      119\n",
              "4      118\n",
              "9       93\n",
              "15      62\n",
              "8       30\n",
              "5       24\n",
              "13      19\n",
              "6       15\n",
              "11       4\n",
              "7        2\n",
              "10       2\n",
              "17       1\n",
              "14       1\n",
              "Name: Collision_Type, dtype: int64"
            ]
          },
          "metadata": {
            "tags": []
          },
          "execution_count": 10
        }
      ]
    },
    {
      "cell_type": "code",
      "metadata": {
        "id": "l1wIXz6i4lm0",
        "colab_type": "code",
        "outputId": "74c108b4-6656-4a92-b9d9-a5d2a3e306a5",
        "colab": {
          "base_uri": "https://localhost:8080/",
          "height": 902
        }
      },
      "source": [
        "%matplotlib inline\n",
        "accidents.hist(bins=50, figsize=(20,15))\n",
        "plt.show()"
      ],
      "execution_count": 11,
      "outputs": [
        {
          "output_type": "display_data",
          "data": {
            "image/png": "[encoded data removed]",
            "text/plain": [
              "<Figure size 1440x1080 with 9 Axes>"
            ]
          },
          "metadata": {
            "tags": []
          }
        }
      ]
    },
    {
      "cell_type": "code",
      "metadata": {
        "id": "dCSnmRfeU2I7",
        "colab_type": "code",
        "outputId": "a09b06eb-5562-478b-e510-5a552e3dff7b",
        "colab": {
          "base_uri": "https://localhost:8080/",
          "height": 345
        }
      },
      "source": [
        "from sklearn.model_selection import train_test_split\n",
        "train_set, test_set = train_test_split(accidents, test_size=0.2, random_state=42)\n",
        "train_set.info()"
      ],
      "execution_count": 12,
      "outputs": [
        {
          "output_type": "stream",
          "text": [
            "<class 'pandas.core.frame.DataFrame'>\n",
            "Int64Index: 8799 entries, 8965 to 7270\n",
            "Data columns (total 14 columns):\n",
            "X                    8036 non-null float64\n",
            "Y                    8036 non-null float64\n",
            "Collision_Type       8799 non-null int64\n",
            "Crash_Dt             8799 non-null object\n",
            "Crash_Military_Tm    8799 non-null int64\n",
            "Crash_Severity       8799 non-null object\n",
            "Crash_Year           8799 non-null int64\n",
            "District             8799 non-null int64\n",
            "Fatal_Crashes        8799 non-null int64\n",
            "Pedage               8627 non-null object\n",
            "Pedgen               8799 non-null object\n",
            "Pedinjurytype        8799 non-null object\n",
            "Rte_Nm               8799 non-null object\n",
            "Weather_Condition    8799 non-null object\n",
            "dtypes: float64(2), int64(5), object(7)\n",
            "memory usage: 1.0+ MB\n"
          ],
          "name": "stdout"
        }
      ]
    },
    {
      "cell_type": "markdown",
      "metadata": {
        "id": "1Q4KEmFZw7An",
        "colab_type": "text"
      },
      "source": [
        "# Step 3. Discover and Visualize the Data to Gain Insights"
      ]
    },
    {
      "cell_type": "code",
      "metadata": {
        "id": "VpK97z1UU-sS",
        "colab_type": "code",
        "colab": {}
      },
      "source": [
        "accidents = train_set.copy()"
      ],
      "execution_count": 0,
      "outputs": []
    },
    {
      "cell_type": "code",
      "metadata": {
        "id": "XRmi2IO6VDCn",
        "colab_type": "code",
        "outputId": "728b7ad1-a432-47b3-c757-764c677c22fd",
        "colab": {
          "base_uri": "https://localhost:8080/",
          "height": 449
        }
      },
      "source": [
        "accidents.plot(kind=\"scatter\", x=\"X\", y=\"Y\",\n",
        "     c=\"Collision_Type\", cmap=plt.get_cmap(\"jet\"), \n",
        "     colorbar=True,s=25, alpha=0.5, figsize=(12,7),\n",
        "     sharex=False)\n",
        "plt.show()"
      ],
      "execution_count": 14,
      "outputs": [
        {
          "output_type": "display_data",
          "data": {
            "image/png": "[encoded data removed]",
            "text/plain": [
              "<Figure size 864x504 with 2 Axes>"
            ]
          },
          "metadata": {
            "tags": []
          }
        }
      ]
    },
    {
      "cell_type": "code",
      "metadata": {
        "id": "KdvzegfRGiHm",
        "colab_type": "code",
        "colab": {}
      },
      "source": [
        "corr_matrix = accidents.corr()"
      ],
      "execution_count": 0,
      "outputs": []
    },
    {
      "cell_type": "code",
      "metadata": {
        "id": "l0ZyojpSVTe5",
        "colab_type": "code",
        "outputId": "8ff360ba-87a0-4f5b-c621-881ad08e898f",
        "colab": {
          "base_uri": "https://localhost:8080/",
          "height": 155
        }
      },
      "source": [
        "corr_matrix[\"Collision_Type\"].sort_values(ascending=False)"
      ],
      "execution_count": 16,
      "outputs": [
        {
          "output_type": "execute_result",
          "data": {
            "text/plain": [
              "Collision_Type       1.000000\n",
              "Crash_Year           0.119662\n",
              "Fatal_Crashes        0.013619\n",
              "Y                    0.003124\n",
              "District            -0.001605\n",
              "Crash_Military_Tm   -0.003271\n",
              "X                   -0.011177\n",
              "Name: Collision_Type, dtype: float64"
            ]
          },
          "metadata": {
            "tags": []
          },
          "execution_count": 16
        }
      ]
    },
    {
      "cell_type": "code",
      "metadata": {
        "id": "tXeHqsIDVVP_",
        "colab_type": "code",
        "outputId": "dacfac00-ed59-4ef0-ab15-eb55ba3df5ce",
        "colab": {
          "base_uri": "https://localhost:8080/",
          "height": 511
        }
      },
      "source": [
        "from pandas.plotting import scatter_matrix\n",
        "\n",
        "attributes = [\"Collision_Type\",\"Fatal_Crashes\",\n",
        "              \"Crash_Military_Tm\", \"District\"]\n",
        "scatter_matrix(accidents[attributes], figsize=(12, 8))\n",
        "plt.show()"
      ],
      "execution_count": 17,
      "outputs": [
        {
          "output_type": "display_data",
          "data": {
            "image/png": "[encoded data removed]",
            "text/plain": [
              "<Figure size 864x576 with 16 Axes>"
            ]
          },
          "metadata": {
            "tags": []
          }
        }
      ]
    },
    {
      "cell_type": "code",
      "metadata": {
        "id": "EtPgkx4mVao8",
        "colab_type": "code",
        "outputId": "aeca721c-934c-40bd-c0bc-3268ea15261a",
        "colab": {
          "base_uri": "https://localhost:8080/",
          "height": 308
        }
      },
      "source": [
        "accidents.describe()"
      ],
      "execution_count": 18,
      "outputs": [
        {
          "output_type": "execute_result",
          "data": {
            "text/html": [
              "<div>\n",
              "<style scoped>\n",
              "    .dataframe tbody tr th:only-of-type {\n",
              "        vertical-align: middle;\n",
              "    }\n",
              "\n",
              "    .dataframe tbody tr th {\n",
              "        vertical-align: top;\n",
              "    }\n",
              "\n",
              "    .dataframe thead th {\n",
              "        text-align: right;\n",
              "    }\n",
              "</style>\n",
              "<table border=\"1\" class=\"dataframe\">\n",
              "  <thead>\n",
              "    <tr style=\"text-align: right;\">\n",
              "      <th></th>\n",
              "      <th>X</th>\n",
              "      <th>Y</th>\n",
              "      <th>Collision_Type</th>\n",
              "      <th>Crash_Military_Tm</th>\n",
              "      <th>Crash_Year</th>\n",
              "      <th>District</th>\n",
              "      <th>Fatal_Crashes</th>\n",
              "    </tr>\n",
              "  </thead>\n",
              "  <tbody>\n",
              "    <tr>\n",
              "      <th>count</th>\n",
              "      <td>8036.000000</td>\n",
              "      <td>8036.000000</td>\n",
              "      <td>8799.000000</td>\n",
              "      <td>8799.000000</td>\n",
              "      <td>8799.000000</td>\n",
              "      <td>8799.000000</td>\n",
              "      <td>8799.000000</td>\n",
              "    </tr>\n",
              "    <tr>\n",
              "      <th>mean</th>\n",
              "      <td>-77.479673</td>\n",
              "      <td>37.836071</td>\n",
              "      <td>11.297647</td>\n",
              "      <td>1464.122059</td>\n",
              "      <td>2015.773724</td>\n",
              "      <td>6.024435</td>\n",
              "      <td>0.060916</td>\n",
              "    </tr>\n",
              "    <tr>\n",
              "      <th>std</th>\n",
              "      <td>1.185898</td>\n",
              "      <td>0.836279</td>\n",
              "      <td>2.772569</td>\n",
              "      <td>573.681730</td>\n",
              "      <td>1.908110</td>\n",
              "      <td>2.425797</td>\n",
              "      <td>0.239190</td>\n",
              "    </tr>\n",
              "    <tr>\n",
              "      <th>min</th>\n",
              "      <td>-83.365154</td>\n",
              "      <td>36.545367</td>\n",
              "      <td>1.000000</td>\n",
              "      <td>0.000000</td>\n",
              "      <td>2013.000000</td>\n",
              "      <td>1.000000</td>\n",
              "      <td>0.000000</td>\n",
              "    </tr>\n",
              "    <tr>\n",
              "      <th>25%</th>\n",
              "      <td>-77.522155</td>\n",
              "      <td>37.043835</td>\n",
              "      <td>12.000000</td>\n",
              "      <td>1045.000000</td>\n",
              "      <td>2014.000000</td>\n",
              "      <td>4.000000</td>\n",
              "      <td>0.000000</td>\n",
              "    </tr>\n",
              "    <tr>\n",
              "      <th>50%</th>\n",
              "      <td>-77.313112</td>\n",
              "      <td>37.559622</td>\n",
              "      <td>12.000000</td>\n",
              "      <td>1611.000000</td>\n",
              "      <td>2016.000000</td>\n",
              "      <td>5.000000</td>\n",
              "      <td>0.000000</td>\n",
              "    </tr>\n",
              "    <tr>\n",
              "      <th>75%</th>\n",
              "      <td>-76.741950</td>\n",
              "      <td>38.804288</td>\n",
              "      <td>12.000000</td>\n",
              "      <td>1914.500000</td>\n",
              "      <td>2017.000000</td>\n",
              "      <td>9.000000</td>\n",
              "      <td>0.000000</td>\n",
              "    </tr>\n",
              "    <tr>\n",
              "      <th>max</th>\n",
              "      <td>-75.365792</td>\n",
              "      <td>39.400798</td>\n",
              "      <td>17.000000</td>\n",
              "      <td>2359.000000</td>\n",
              "      <td>2019.000000</td>\n",
              "      <td>9.000000</td>\n",
              "      <td>1.000000</td>\n",
              "    </tr>\n",
              "  </tbody>\n",
              "</table>\n",
              "</div>"
            ],
            "text/plain": [
              "                 X            Y  ...     District  Fatal_Crashes\n",
              "count  8036.000000  8036.000000  ...  8799.000000    8799.000000\n",
              "mean    -77.479673    37.836071  ...     6.024435       0.060916\n",
              "std       1.185898     0.836279  ...     2.425797       0.239190\n",
              "min     -83.365154    36.545367  ...     1.000000       0.000000\n",
              "25%     -77.522155    37.043835  ...     4.000000       0.000000\n",
              "50%     -77.313112    37.559622  ...     5.000000       0.000000\n",
              "75%     -76.741950    38.804288  ...     9.000000       0.000000\n",
              "max     -75.365792    39.400798  ...     9.000000       1.000000\n",
              "\n",
              "[8 rows x 7 columns]"
            ]
          },
          "metadata": {
            "tags": []
          },
          "execution_count": 18
        }
      ]
    },
    {
      "cell_type": "markdown",
      "metadata": {
        "id": "_Eb7qveuHhzE",
        "colab_type": "text"
      },
      "source": [
        "# Step 4. Preparing the data for Machine Learning Algorithms (Data Cleaning)"
      ]
    },
    {
      "cell_type": "code",
      "metadata": {
        "id": "DgoxkE0UVkOJ",
        "colab_type": "code",
        "colab": {}
      },
      "source": [
        "# Create the features and labels for training\n",
        "train_set = train_set.dropna()\n",
        "accidents = train_set.drop(\"Collision_Type\", axis=1) # drop labels for training set\n",
        "accidents_labels = train_set[\"Collision_Type\"].copy()"
      ],
      "execution_count": 0,
      "outputs": []
    },
    {
      "cell_type": "code",
      "metadata": {
        "id": "jdlZwMS9DAGK",
        "colab_type": "code",
        "outputId": "8dedcb81-577a-4cbc-f737-77fa745df05d",
        "colab": {
          "base_uri": "https://localhost:8080/",
          "height": 328
        }
      },
      "source": [
        "accidents.info()"
      ],
      "execution_count": 20,
      "outputs": [
        {
          "output_type": "stream",
          "text": [
            "<class 'pandas.core.frame.DataFrame'>\n",
            "Int64Index: 7880 entries, 8965 to 7270\n",
            "Data columns (total 13 columns):\n",
            "X                    7880 non-null float64\n",
            "Y                    7880 non-null float64\n",
            "Crash_Dt             7880 non-null object\n",
            "Crash_Military_Tm    7880 non-null int64\n",
            "Crash_Severity       7880 non-null object\n",
            "Crash_Year           7880 non-null int64\n",
            "District             7880 non-null int64\n",
            "Fatal_Crashes        7880 non-null int64\n",
            "Pedage               7880 non-null object\n",
            "Pedgen               7880 non-null object\n",
            "Pedinjurytype        7880 non-null object\n",
            "Rte_Nm               7880 non-null object\n",
            "Weather_Condition    7880 non-null object\n",
            "dtypes: float64(2), int64(4), object(7)\n",
            "memory usage: 861.9+ KB\n"
          ],
          "name": "stdout"
        }
      ]
    },
    {
      "cell_type": "code",
      "metadata": {
        "id": "XnkGy9loVseY",
        "colab_type": "code",
        "colab": {}
      },
      "source": [
        "accidents_num = accidents.drop([\"Crash_Severity\",\"Crash_Dt\",\"Pedage\",\"Pedgen\",\n",
        "                                \"Pedinjurytype\",\"Rte_Nm\",\"Weather_Condition\"], axis=1)\n",
        "accidents_cat = accidents[[\"Crash_Severity\",\"Crash_Dt\",\"Pedage\",\"Pedgen\",\n",
        "                                \"Pedinjurytype\",\"Rte_Nm\",\"Weather_Condition\"]]"
      ],
      "execution_count": 0,
      "outputs": []
    },
    {
      "cell_type": "code",
      "metadata": {
        "id": "58RaAoRxGKhq",
        "colab_type": "code",
        "colab": {}
      },
      "source": [
        "from sklearn.pipeline import Pipeline\n",
        "from sklearn.impute import SimpleImputer\n",
        "from sklearn.preprocessing import StandardScaler\n",
        "\n",
        "num_pipeline = Pipeline([\n",
        "        ('imputer', SimpleImputer(strategy=\"median\")),\n",
        "        ('std_scaler', StandardScaler(with_mean=False)),\n",
        "    ])\n",
        "\n",
        "accidents_num_tr = num_pipeline.fit_transform(accidents_num)"
      ],
      "execution_count": 0,
      "outputs": []
    },
    {
      "cell_type": "code",
      "metadata": {
        "id": "2JP-8wXoEopD",
        "colab_type": "code",
        "outputId": "60a2803a-fb19-4022-c7f7-addf8e1d4c17",
        "colab": {
          "base_uri": "https://localhost:8080/",
          "height": 138
        }
      },
      "source": [
        "from sklearn.preprocessing import OneHotEncoder\n",
        "\n",
        "cat_encoder = OneHotEncoder()\n",
        "\n",
        "accidents_cat_1hot = cat_encoder.fit_transform(accidents_cat)\n",
        "accidents_cat_1hot.toarray()"
      ],
      "execution_count": 23,
      "outputs": [
        {
          "output_type": "execute_result",
          "data": {
            "text/plain": [
              "array([[0., 1., 0., ..., 0., 0., 0.],\n",
              "       [0., 1., 0., ..., 0., 0., 0.],\n",
              "       [1., 0., 0., ..., 0., 0., 0.],\n",
              "       ...,\n",
              "       [1., 0., 0., ..., 0., 0., 0.],\n",
              "       [0., 1., 0., ..., 0., 0., 0.],\n",
              "       [0., 0., 1., ..., 0., 0., 0.]])"
            ]
          },
          "metadata": {
            "tags": []
          },
          "execution_count": 23
        }
      ]
    },
    {
      "cell_type": "code",
      "metadata": {
        "id": "t_z_49JbuNy4",
        "colab_type": "code",
        "outputId": "66824d7c-792f-4bee-959c-a7a51fed46cc",
        "colab": {
          "base_uri": "https://localhost:8080/",
          "height": 259
        }
      },
      "source": [
        "accidents.isnull().sum()"
      ],
      "execution_count": 24,
      "outputs": [
        {
          "output_type": "execute_result",
          "data": {
            "text/plain": [
              "X                    0\n",
              "Y                    0\n",
              "Crash_Dt             0\n",
              "Crash_Military_Tm    0\n",
              "Crash_Severity       0\n",
              "Crash_Year           0\n",
              "District             0\n",
              "Fatal_Crashes        0\n",
              "Pedage               0\n",
              "Pedgen               0\n",
              "Pedinjurytype        0\n",
              "Rte_Nm               0\n",
              "Weather_Condition    0\n",
              "dtype: int64"
            ]
          },
          "metadata": {
            "tags": []
          },
          "execution_count": 24
        }
      ]
    },
    {
      "cell_type": "code",
      "metadata": {
        "id": "iltrCKQtGoYI",
        "colab_type": "code",
        "colab": {}
      },
      "source": [
        "from sklearn.compose import ColumnTransformer\n",
        "\n",
        "num_attribs = list(accidents_num)\n",
        "cat_attribs = [\"Crash_Severity\",\"Crash_Dt\",\"Pedage\",\"Pedgen\",\n",
        "                                \"Pedinjurytype\",\"Rte_Nm\",\"Weather_Condition\"]\n",
        "\n",
        "full_pipeline = ColumnTransformer([\n",
        "        (\"num\", num_pipeline, num_attribs),\n",
        "        (\"cat\", OneHotEncoder(), cat_attribs),\n",
        "    ])\n",
        "\n",
        "accidents_prepared = full_pipeline.fit_transform(accidents)"
      ],
      "execution_count": 0,
      "outputs": []
    },
    {
      "cell_type": "markdown",
      "metadata": {
        "id": "1mwDv2x4IHo5",
        "colab_type": "text"
      },
      "source": [
        "# Step 5. Select and Train a Model"
      ]
    },
    {
      "cell_type": "markdown",
      "metadata": {
        "id": "PKJ1GIY3pSX5",
        "colab_type": "text"
      },
      "source": [
        "## Train the Models\n",
        "\n",
        "Linear Regression"
      ]
    },
    {
      "cell_type": "code",
      "metadata": {
        "id": "oARCnDhvIHIf",
        "colab_type": "code",
        "outputId": "f4ae8aa0-7aa8-4682-d8c5-bf955fb7bd19",
        "colab": {
          "base_uri": "https://localhost:8080/",
          "height": 35
        }
      },
      "source": [
        "from sklearn.linear_model import LinearRegression\n",
        "from sklearn.metrics import mean_squared_error\n",
        "\n",
        "lin_reg = LinearRegression()\n",
        "lin_reg.fit(accidents_prepared, accidents_labels)\n",
        "\n",
        "accidents_predictions = lin_reg.predict(accidents_prepared)\n",
        "\n",
        "lin_mse = mean_squared_error(accidents_labels, accidents_predictions)\n",
        "\n",
        "lin_rmse = np.sqrt(lin_mse)\n",
        "lin_rmse"
      ],
      "execution_count": 26,
      "outputs": [
        {
          "output_type": "execute_result",
          "data": {
            "text/plain": [
              "1.5648317540764813"
            ]
          },
          "metadata": {
            "tags": []
          },
          "execution_count": 26
        }
      ]
    },
    {
      "cell_type": "code",
      "metadata": {
        "id": "S0EmrEYBs0x-",
        "colab_type": "code",
        "outputId": "952becc1-1b46-46cb-dbaa-40dd0b74e7c2",
        "colab": {
          "base_uri": "https://localhost:8080/",
          "height": 35
        }
      },
      "source": [
        "from sklearn.metrics import mean_absolute_error\n",
        "mean_absolute_error(accidents_labels, accidents_predictions)"
      ],
      "execution_count": 27,
      "outputs": [
        {
          "output_type": "execute_result",
          "data": {
            "text/plain": [
              "0.8331623168620522"
            ]
          },
          "metadata": {
            "tags": []
          },
          "execution_count": 27
        }
      ]
    },
    {
      "cell_type": "code",
      "metadata": {
        "id": "gzVrbnqaJoqY",
        "colab_type": "code",
        "colab": {}
      },
      "source": [
        "from sklearn.model_selection import cross_val_score\n",
        "\n",
        "scores = cross_val_score(lin_reg, accidents_prepared, accidents_labels,\n",
        "                         scoring=\"neg_mean_squared_error\", cv=3)\n",
        "lin_rmse_scores = np.sqrt(-scores)"
      ],
      "execution_count": 0,
      "outputs": []
    },
    {
      "cell_type": "code",
      "metadata": {
        "id": "ggXWqZY3cR_i",
        "colab_type": "code",
        "colab": {}
      },
      "source": [
        "def display_scores(scores):\n",
        "     print(\"Scores:\", scores)\n",
        "     print(\"Mean:\", scores.mean())\n",
        "     print(\"Standard deviation:\", scores.std())"
      ],
      "execution_count": 0,
      "outputs": []
    },
    {
      "cell_type": "code",
      "metadata": {
        "id": "-EVXz_TJb6W9",
        "colab_type": "code",
        "outputId": "03663441-b577-4473-cc35-53c5b790077f",
        "colab": {
          "base_uri": "https://localhost:8080/",
          "height": 69
        }
      },
      "source": [
        "display_scores(lin_rmse_scores)"
      ],
      "execution_count": 30,
      "outputs": [
        {
          "output_type": "stream",
          "text": [
            "Scores: [4.20819022 4.39149565 4.70841668]\n",
            "Mean: 4.4360341804757155\n",
            "Standard deviation: 0.20663073350491812\n"
          ],
          "name": "stdout"
        }
      ]
    },
    {
      "cell_type": "markdown",
      "metadata": {
        "id": "DE6o-DxYpPe1",
        "colab_type": "text"
      },
      "source": [
        "Random Forest Regression"
      ]
    },
    {
      "cell_type": "code",
      "metadata": {
        "id": "HDnPfWLIpUV5",
        "colab_type": "code",
        "outputId": "b1218c83-7c8c-4466-9f26-0b9d5974fd09",
        "colab": {
          "base_uri": "https://localhost:8080/",
          "height": 35
        }
      },
      "source": [
        "from sklearn.ensemble import RandomForestRegressor\n",
        "forest_reg = RandomForestRegressor(n_estimators=100, random_state=42)\n",
        "forest_reg.fit(accidents_prepared, accidents_labels)\n",
        "\n",
        "accidents_predictions = forest_reg.predict(accidents_prepared)\n",
        "forest_mse = mean_squared_error(accidents_labels, accidents_predictions)\n",
        "forest_rmse = np.sqrt(forest_mse)\n",
        "forest_rmse"
      ],
      "execution_count": 31,
      "outputs": [
        {
          "output_type": "execute_result",
          "data": {
            "text/plain": [
              "1.1080391630272057"
            ]
          },
          "metadata": {
            "tags": []
          },
          "execution_count": 31
        }
      ]
    },
    {
      "cell_type": "code",
      "metadata": {
        "id": "PmfH1SlZqLmy",
        "colab_type": "code",
        "colab": {}
      },
      "source": [
        "forest_scores = cross_val_score(forest_reg, accidents_prepared, accidents_labels,\n",
        "                                scoring=\"neg_mean_squared_error\", cv=3)\n",
        "forest_rmse_scores = np.sqrt(-forest_scores)"
      ],
      "execution_count": 0,
      "outputs": []
    },
    {
      "cell_type": "code",
      "metadata": {
        "id": "RJ5XdqENc3BG",
        "colab_type": "code",
        "outputId": "40badd25-239e-4600-af3b-158dbbd4fd03",
        "colab": {
          "base_uri": "https://localhost:8080/",
          "height": 69
        }
      },
      "source": [
        "display_scores(forest_rmse_scores)"
      ],
      "execution_count": 33,
      "outputs": [
        {
          "output_type": "stream",
          "text": [
            "Scores: [2.89882472 3.01389188 2.99975565]\n",
            "Mean: 2.9708240850980965\n",
            "Standard deviation: 0.051237287050375314\n"
          ],
          "name": "stdout"
        }
      ]
    },
    {
      "cell_type": "markdown",
      "metadata": {
        "id": "T6Y6OMRXdhxd",
        "colab_type": "text"
      },
      "source": [
        "K-Means Clustering"
      ]
    },
    {
      "cell_type": "code",
      "metadata": {
        "id": "son4ifMn_vzi",
        "colab_type": "code",
        "colab": {}
      },
      "source": [
        "from sklearn.cluster import KMeans\n",
        "X = accidents_prepared\n",
        "y = accidents_labels\n",
        "k = 22\n",
        "kmeans = KMeans(n_clusters=k)\n",
        "y_pred = kmeans.fit_predict(X)"
      ],
      "execution_count": 0,
      "outputs": []
    },
    {
      "cell_type": "code",
      "metadata": {
        "id": "0tuNw2NpDhO_",
        "colab_type": "code",
        "outputId": "fbb71d22-c825-495c-e070-16f2501eff8c",
        "colab": {
          "base_uri": "https://localhost:8080/",
          "height": 242
        }
      },
      "source": [
        "kmeans.cluster_centers_"
      ],
      "execution_count": 92,
      "outputs": [
        {
          "output_type": "execute_result",
          "data": {
            "text/plain": [
              "array([[-6.49879472e+01,  4.62989664e+01,  3.02854869e+00, ...,\n",
              "         1.32450331e-03,  0.00000000e+00,  1.32450331e-03],\n",
              "       [-6.46042226e+01,  4.45426167e+01,  1.36303326e+00, ...,\n",
              "         0.00000000e+00,  0.00000000e+00,  5.42005420e-03],\n",
              "       [-6.44729289e+01,  4.44569023e+01,  3.23506644e+00, ...,\n",
              "         2.40963855e-03,  0.00000000e+00,  0.00000000e+00],\n",
              "       ...,\n",
              "       [-6.73641782e+01,  4.43163363e+01,  2.68323123e+00, ...,\n",
              "         2.74725275e-03,  0.00000000e+00,  0.00000000e+00],\n",
              "       [-6.43295589e+01,  4.43183109e+01,  2.67685546e+00, ...,\n",
              "         0.00000000e+00,  0.00000000e+00,  1.93423598e-03],\n",
              "       [-6.50880103e+01,  4.62498884e+01,  2.74253140e+00, ...,\n",
              "         5.36193029e-03,  0.00000000e+00,  2.68096515e-03]])"
            ]
          },
          "metadata": {
            "tags": []
          },
          "execution_count": 92
        }
      ]
    },
    {
      "cell_type": "code",
      "metadata": {
        "id": "7BQeR5UXDvIC",
        "colab_type": "code",
        "outputId": "1efe4d6b-4030-4738-9c15-dca45e34ea69",
        "colab": {
          "base_uri": "https://localhost:8080/",
          "height": 35
        }
      },
      "source": [
        "accidents_predictions = kmeans.predict(accidents_prepared)\n",
        "kmeans_mse = mean_squared_error(accidents_labels, accidents_predictions)\n",
        "kmeans_rmse = np.sqrt(kmeans_mse)\n",
        "kmeans_rmse"
      ],
      "execution_count": 93,
      "outputs": [
        {
          "output_type": "execute_result",
          "data": {
            "text/plain": [
              "6.879907108923141"
            ]
          },
          "metadata": {
            "tags": []
          },
          "execution_count": 93
        }
      ]
    },
    {
      "cell_type": "code",
      "metadata": {
        "id": "MYDjld5kdm4G",
        "colab_type": "code",
        "colab": {}
      },
      "source": [
        "def plot_data(X):\n",
        "    plt.plot(X[:, 0], X[:, 1], 'k.', markersize=2)\n",
        "\n",
        "def plot_centroids(centroids, weights=None, circle_color='w', cross_color='k'):\n",
        "    if weights is not None:\n",
        "        centroids = centroids[weights > weights.max() / 10]\n",
        "    plt.scatter(centroids[:, 0], centroids[:, 1],\n",
        "                marker='o', s=30, linewidths=8,\n",
        "                color=circle_color, zorder=10, alpha=0.9)\n",
        "    plt.scatter(centroids[:, 0], centroids[:, 1],\n",
        "                marker='x', s=50, linewidths=50,\n",
        "                color=cross_color, zorder=11, alpha=1)\n",
        "\n",
        "def plot_decision_boundaries(clusterer, X, resolution=1000, show_centroids=True,\n",
        "                             show_xlabels=True, show_ylabels=True):\n",
        "    mins = X.min(axis=0) - 0.1\n",
        "    maxs = X.max(axis=0) + 0.1\n",
        "    xx, yy = np.meshgrid(np.linspace(mins[0], maxs[0], resolution),\n",
        "                         np.linspace(mins[1], maxs[1], resolution))\n",
        "    Z = clusterer.predict(np.c_[xx.ravel(), yy.ravel()])\n",
        "    Z = Z.reshape(xx.shape)\n",
        "\n",
        "    plt.contourf(Z, extent=(mins[0], maxs[0], mins[1], maxs[1]),\n",
        "                cmap=\"Pastel2\")\n",
        "    plt.contour(Z, extent=(mins[0], maxs[0], mins[1], maxs[1]),\n",
        "                linewidths=1, colors='k')\n",
        "    plot_data(X)\n",
        "    if show_centroids:\n",
        "        plot_centroids(clusterer.cluster_centers_)\n",
        "\n",
        "    if show_xlabels:\n",
        "        plt.xlabel(\"$x_1$\", fontsize=14)\n",
        "    else:\n",
        "        plt.tick_params(labelbottom=False)\n",
        "    if show_ylabels:\n",
        "        plt.ylabel(\"$x_2$\", fontsize=14, rotation=0)\n",
        "    else:\n",
        "        plt.tick_params(labelleft=False)"
      ],
      "execution_count": 0,
      "outputs": []
    },
    {
      "cell_type": "code",
      "metadata": {
        "id": "4gNso88Jd9Rc",
        "colab_type": "code",
        "colab": {}
      },
      "source": [
        "plt.figure(figsize=(8, 4))\n",
        "plot_decision_boundaries(kmeans, X)\n",
        "save_fig(\"voronoi_plot\")\n",
        "plt.show()"
      ],
      "execution_count": 0,
      "outputs": []
    },
    {
      "cell_type": "markdown",
      "metadata": {
        "id": "dsHW0Yc9eHvG",
        "colab_type": "text"
      },
      "source": [
        "Linear SVM"
      ]
    },
    {
      "cell_type": "code",
      "metadata": {
        "id": "IKwvDimQeXA2",
        "colab_type": "code",
        "outputId": "c5e82400-071f-4ac9-9620-40ef38f3776e",
        "colab": {
          "base_uri": "https://localhost:8080/",
          "height": 245
        }
      },
      "source": [
        "from sklearn.svm import LinearSVC\n",
        "\n",
        "X = accidents_prepared\n",
        "y = accidents_labels\n",
        "\n",
        "svm_clf = Pipeline([\n",
        "        (\"scaler\", StandardScaler(with_mean=False)),\n",
        "        (\"linear_svc\", LinearSVC(C=1, loss=\"hinge\")),\n",
        "    ])\n",
        "\n",
        "svm_clf.fit(X, y)"
      ],
      "execution_count": 37,
      "outputs": [
        {
          "output_type": "stream",
          "text": [
            "/usr/local/lib/python3.6/dist-packages/sklearn/svm/base.py:929: ConvergenceWarning: Liblinear failed to converge, increase the number of iterations.\n",
            "  \"the number of iterations.\", ConvergenceWarning)\n"
          ],
          "name": "stderr"
        },
        {
          "output_type": "execute_result",
          "data": {
            "text/plain": [
              "Pipeline(memory=None,\n",
              "         steps=[('scaler',\n",
              "                 StandardScaler(copy=True, with_mean=False, with_std=True)),\n",
              "                ('linear_svc',\n",
              "                 LinearSVC(C=1, class_weight=None, dual=True,\n",
              "                           fit_intercept=True, intercept_scaling=1,\n",
              "                           loss='hinge', max_iter=1000, multi_class='ovr',\n",
              "                           penalty='l2', random_state=None, tol=0.0001,\n",
              "                           verbose=0))],\n",
              "         verbose=False)"
            ]
          },
          "metadata": {
            "tags": []
          },
          "execution_count": 37
        }
      ]
    },
    {
      "cell_type": "code",
      "metadata": {
        "id": "OMi9b6xshJk-",
        "colab_type": "code",
        "outputId": "a4a54a7f-419b-4b66-cf8c-9251a94a5035",
        "colab": {
          "base_uri": "https://localhost:8080/",
          "height": 35
        }
      },
      "source": [
        "accidents_predictions = svm_clf.predict(accidents_prepared)\n",
        "\n",
        "svm_clf_mse = mean_squared_error(accidents_labels, accidents_predictions)\n",
        "svm_clf_rmse = np.sqrt(svm_clf_mse)\n",
        "svm_clf_rmse"
      ],
      "execution_count": 38,
      "outputs": [
        {
          "output_type": "execute_result",
          "data": {
            "text/plain": [
              "1.3831381225278434"
            ]
          },
          "metadata": {
            "tags": []
          },
          "execution_count": 38
        }
      ]
    },
    {
      "cell_type": "code",
      "metadata": {
        "id": "Yu3acBaQhexN",
        "colab_type": "code",
        "outputId": "da7520c8-39cd-42ac-a407-8d97ef7f237e",
        "colab": {
          "base_uri": "https://localhost:8080/",
          "height": 175
        }
      },
      "source": [
        "svm_clf_scores = cross_val_score(svm_clf, accidents_prepared, accidents_labels,\n",
        "                                scoring=\"neg_mean_squared_error\", cv=3)\n",
        "svm_clf_rmse_scores = np.sqrt(-forest_scores)"
      ],
      "execution_count": 39,
      "outputs": [
        {
          "output_type": "stream",
          "text": [
            "/usr/local/lib/python3.6/dist-packages/sklearn/model_selection/_split.py:657: Warning: The least populated class in y has only 1 members, which is too few. The minimum number of members in any class cannot be less than n_splits=3.\n",
            "  % (min_groups, self.n_splits)), Warning)\n",
            "/usr/local/lib/python3.6/dist-packages/sklearn/svm/base.py:929: ConvergenceWarning: Liblinear failed to converge, increase the number of iterations.\n",
            "  \"the number of iterations.\", ConvergenceWarning)\n",
            "/usr/local/lib/python3.6/dist-packages/sklearn/svm/base.py:929: ConvergenceWarning: Liblinear failed to converge, increase the number of iterations.\n",
            "  \"the number of iterations.\", ConvergenceWarning)\n",
            "/usr/local/lib/python3.6/dist-packages/sklearn/svm/base.py:929: ConvergenceWarning: Liblinear failed to converge, increase the number of iterations.\n",
            "  \"the number of iterations.\", ConvergenceWarning)\n"
          ],
          "name": "stderr"
        }
      ]
    },
    {
      "cell_type": "code",
      "metadata": {
        "id": "Xzder_5IhxEI",
        "colab_type": "code",
        "outputId": "759d6079-79ff-4448-c5f8-8bddb55c2f64",
        "colab": {
          "base_uri": "https://localhost:8080/",
          "height": 69
        }
      },
      "source": [
        "display_scores(svm_clf_rmse_scores)"
      ],
      "execution_count": 40,
      "outputs": [
        {
          "output_type": "stream",
          "text": [
            "Scores: [2.89882472 3.01389188 2.99975565]\n",
            "Mean: 2.9708240850980965\n",
            "Standard deviation: 0.051237287050375314\n"
          ],
          "name": "stdout"
        }
      ]
    },
    {
      "cell_type": "markdown",
      "metadata": {
        "id": "ssS9-WeDRyMv",
        "colab_type": "text"
      },
      "source": [
        "Stochastic Gradient Descent (Binary Classifier for 12. Ped)"
      ]
    },
    {
      "cell_type": "code",
      "metadata": {
        "id": "lemiCQupRx3C",
        "colab_type": "code",
        "colab": {}
      },
      "source": [
        "# y_train_12 = (accidents_labels == 12)  # True for all 5s, False for all other digits\n",
        "# y_test_12 = (accidents_labels == 12)\n",
        "\n",
        "# from sklearn.linear_model import SGDClassifier\n",
        "\n",
        "# sgd_clf = SGDClassifier(random_state=42)\n",
        "# sgd_clf.fit(accidents_prepared, y_train_12)"
      ],
      "execution_count": 0,
      "outputs": []
    },
    {
      "cell_type": "code",
      "metadata": {
        "id": "1AVS25smSI9A",
        "colab_type": "code",
        "colab": {}
      },
      "source": [
        "# from sklearn.model_selection import cross_val_score\n",
        "# cross_val_score(sgd_clf, accidents_prepared, y_train_12, cv=3, scoring=\"accuracy\")"
      ],
      "execution_count": 0,
      "outputs": []
    },
    {
      "cell_type": "markdown",
      "metadata": {
        "id": "7yRRFgM7VZnO",
        "colab_type": "text"
      },
      "source": [
        "Decision Tree Regressor"
      ]
    },
    {
      "cell_type": "code",
      "metadata": {
        "id": "Pj6u9LPQVbjO",
        "colab_type": "code",
        "outputId": "23ee91dc-175c-42b7-98fd-687beca1610f",
        "colab": {
          "base_uri": "https://localhost:8080/",
          "height": 104
        }
      },
      "source": [
        "from sklearn.tree import DecisionTreeRegressor\n",
        "\n",
        "tree_reg = DecisionTreeRegressor()\n",
        "tree_reg.fit(accidents_prepared, accidents_labels)"
      ],
      "execution_count": 43,
      "outputs": [
        {
          "output_type": "execute_result",
          "data": {
            "text/plain": [
              "DecisionTreeRegressor(criterion='mse', max_depth=None, max_features=None,\n",
              "                      max_leaf_nodes=None, min_impurity_decrease=0.0,\n",
              "                      min_impurity_split=None, min_samples_leaf=1,\n",
              "                      min_samples_split=2, min_weight_fraction_leaf=0.0,\n",
              "                      presort=False, random_state=None, splitter='best')"
            ]
          },
          "metadata": {
            "tags": []
          },
          "execution_count": 43
        }
      ]
    },
    {
      "cell_type": "code",
      "metadata": {
        "id": "XfhAOjCeVeyi",
        "colab_type": "code",
        "outputId": "21ac0708-58fb-43fc-ef1e-e2c16e625875",
        "colab": {
          "base_uri": "https://localhost:8080/",
          "height": 35
        }
      },
      "source": [
        "accidents_predictions = tree_reg.predict(accidents_prepared)\n",
        "tree_mse = mean_squared_error(accidents_labels, accidents_predictions)\n",
        "tree_rmse = np.sqrt(tree_mse)\n",
        "tree_rmse"
      ],
      "execution_count": 44,
      "outputs": [
        {
          "output_type": "execute_result",
          "data": {
            "text/plain": [
              "0.0"
            ]
          },
          "metadata": {
            "tags": []
          },
          "execution_count": 44
        }
      ]
    },
    {
      "cell_type": "code",
      "metadata": {
        "id": "kn0V8dCGVtn5",
        "colab_type": "code",
        "outputId": "c5658073-808f-43fd-93d8-465cc47890d1",
        "colab": {
          "base_uri": "https://localhost:8080/",
          "height": 69
        }
      },
      "source": [
        "scores = cross_val_score(tree_reg, accidents_prepared, accidents_labels,\n",
        "                         scoring=\"neg_mean_squared_error\", cv=3)\n",
        "tree_rmse_scores = np.sqrt(-scores)\n",
        "display_scores(tree_rmse_scores)"
      ],
      "execution_count": 45,
      "outputs": [
        {
          "output_type": "stream",
          "text": [
            "Scores: [3.52774635 3.55510217 3.66650511]\n",
            "Mean: 3.583117874678166\n",
            "Standard deviation: 0.06001198941445613\n"
          ],
          "name": "stdout"
        }
      ]
    },
    {
      "cell_type": "markdown",
      "metadata": {
        "id": "cNOj0WuDdwoY",
        "colab_type": "text"
      },
      "source": [
        "## Tuning the Hyperparameters\n",
        "\n",
        "Random Forest Regression"
      ]
    },
    {
      "cell_type": "code",
      "metadata": {
        "id": "Fb-d_GayWOO-",
        "colab_type": "code",
        "outputId": "9800ee29-8da2-40fd-e87c-ac63ed383510",
        "colab": {
          "base_uri": "https://localhost:8080/",
          "height": 328
        }
      },
      "source": [
        "from sklearn.model_selection import GridSearchCV\n",
        "\n",
        "param_grid = [\n",
        "    {'n_estimators': [75,100,150], 'max_features': [2, 4, 6]},\n",
        "  ]\n",
        "\n",
        "forest_reg = RandomForestRegressor()\n",
        "\n",
        "grid_search = GridSearchCV(forest_reg, param_grid, cv=3,\n",
        "                           scoring='neg_mean_squared_error',\n",
        "                           return_train_score=True)\n",
        "\n",
        "grid_search.fit(accidents_prepared, accidents_labels)"
      ],
      "execution_count": 46,
      "outputs": [
        {
          "output_type": "execute_result",
          "data": {
            "text/plain": [
              "GridSearchCV(cv=3, error_score='raise-deprecating',\n",
              "             estimator=RandomForestRegressor(bootstrap=True, criterion='mse',\n",
              "                                             max_depth=None,\n",
              "                                             max_features='auto',\n",
              "                                             max_leaf_nodes=None,\n",
              "                                             min_impurity_decrease=0.0,\n",
              "                                             min_impurity_split=None,\n",
              "                                             min_samples_leaf=1,\n",
              "                                             min_samples_split=2,\n",
              "                                             min_weight_fraction_leaf=0.0,\n",
              "                                             n_estimators='warn', n_jobs=None,\n",
              "                                             oob_score=False, random_state=None,\n",
              "                                             verbose=0, warm_start=False),\n",
              "             iid='warn', n_jobs=None,\n",
              "             param_grid=[{'max_features': [2, 4, 6],\n",
              "                          'n_estimators': [75, 100, 150]}],\n",
              "             pre_dispatch='2*n_jobs', refit=True, return_train_score=True,\n",
              "             scoring='neg_mean_squared_error', verbose=0)"
            ]
          },
          "metadata": {
            "tags": []
          },
          "execution_count": 46
        }
      ]
    },
    {
      "cell_type": "code",
      "metadata": {
        "id": "8ARs3fMMWWmA",
        "colab_type": "code",
        "outputId": "3401f636-3e6d-4f68-cee3-65071c88d74e",
        "colab": {
          "base_uri": "https://localhost:8080/",
          "height": 35
        }
      },
      "source": [
        "grid_search.best_params_"
      ],
      "execution_count": 47,
      "outputs": [
        {
          "output_type": "execute_result",
          "data": {
            "text/plain": [
              "{'max_features': 6, 'n_estimators': 150}"
            ]
          },
          "metadata": {
            "tags": []
          },
          "execution_count": 47
        }
      ]
    },
    {
      "cell_type": "code",
      "metadata": {
        "id": "783KMu5eW0b5",
        "colab_type": "code",
        "outputId": "d1039737-d73a-440c-f2c0-50c6c3ceba67",
        "colab": {
          "base_uri": "https://localhost:8080/",
          "height": 138
        }
      },
      "source": [
        "grid_search.best_estimator_"
      ],
      "execution_count": 48,
      "outputs": [
        {
          "output_type": "execute_result",
          "data": {
            "text/plain": [
              "RandomForestRegressor(bootstrap=True, criterion='mse', max_depth=None,\n",
              "                      max_features=6, max_leaf_nodes=None,\n",
              "                      min_impurity_decrease=0.0, min_impurity_split=None,\n",
              "                      min_samples_leaf=1, min_samples_split=2,\n",
              "                      min_weight_fraction_leaf=0.0, n_estimators=150,\n",
              "                      n_jobs=None, oob_score=False, random_state=None,\n",
              "                      verbose=0, warm_start=False)"
            ]
          },
          "metadata": {
            "tags": []
          },
          "execution_count": 48
        }
      ]
    },
    {
      "cell_type": "code",
      "metadata": {
        "id": "OQLpgmnueDtI",
        "colab_type": "code",
        "outputId": "4a59be11-134c-417d-ee8c-c368d11e408d",
        "colab": {
          "base_uri": "https://localhost:8080/",
          "height": 173
        }
      },
      "source": [
        "cvres = grid_search.cv_results_\n",
        "for mean_score, params in zip(cvres[\"mean_test_score\"], cvres[\"params\"]):\n",
        "  print(np.sqrt(-mean_score), params)"
      ],
      "execution_count": 49,
      "outputs": [
        {
          "output_type": "stream",
          "text": [
            "2.765240163435668 {'max_features': 2, 'n_estimators': 75}\n",
            "2.749757829302986 {'max_features': 2, 'n_estimators': 100}\n",
            "2.751651951222163 {'max_features': 2, 'n_estimators': 150}\n",
            "2.7600307182543893 {'max_features': 4, 'n_estimators': 75}\n",
            "2.7548799191981646 {'max_features': 4, 'n_estimators': 100}\n",
            "2.75232202741307 {'max_features': 4, 'n_estimators': 150}\n",
            "2.761457575510143 {'max_features': 6, 'n_estimators': 75}\n",
            "2.7621256149384963 {'max_features': 6, 'n_estimators': 100}\n",
            "2.7490560680658063 {'max_features': 6, 'n_estimators': 150}\n"
          ],
          "name": "stdout"
        }
      ]
    },
    {
      "cell_type": "code",
      "metadata": {
        "id": "zOHROZteeM5Q",
        "colab_type": "code",
        "outputId": "02040e4f-e56e-4580-de89-e5d7da93f157",
        "colab": {
          "base_uri": "https://localhost:8080/",
          "height": 52
        }
      },
      "source": [
        "feature_importances = grid_search.best_estimator_.feature_importances_\n",
        "feature_importances"
      ],
      "execution_count": 50,
      "outputs": [
        {
          "output_type": "execute_result",
          "data": {
            "text/plain": [
              "array([5.23617468e-02, 5.38221292e-02, 5.13524735e-02, ...,\n",
              "       8.28110039e-04, 3.31397519e-06, 2.84230889e-04])"
            ]
          },
          "metadata": {
            "tags": []
          },
          "execution_count": 50
        }
      ]
    },
    {
      "cell_type": "code",
      "metadata": {
        "id": "RdlLpHbCeYLE",
        "colab_type": "code",
        "outputId": "aaf02425-666a-4421-a94d-80e61a89fbcc",
        "colab": {
          "base_uri": "https://localhost:8080/",
          "height": 242
        }
      },
      "source": [
        "cat_encoder = full_pipeline.named_transformers_[\"cat\"]\n",
        "cat_one_hot_attribs = list(cat_encoder.categories_[0])\n",
        "attributes = num_attribs + cat_attribs\n",
        "# print(attributes)\n",
        "# print(cat_attribs)\n",
        "sorted(zip(feature_importances, attributes), reverse=True)"
      ],
      "execution_count": 51,
      "outputs": [
        {
          "output_type": "execute_result",
          "data": {
            "text/plain": [
              "[(0.05382212917203509, 'Y'),\n",
              " (0.05236174676802504, 'X'),\n",
              " (0.051352473522800576, 'Crash_Military_Tm'),\n",
              " (0.03441455991290808, 'Crash_Year'),\n",
              " (0.022567936266365902, 'District'),\n",
              " (0.008087440994506093, 'Crash_Dt'),\n",
              " (0.007000795857103864, 'Crash_Severity'),\n",
              " (0.005821000953398187, 'Pedage'),\n",
              " (0.0019432019593524836, 'Pedgen'),\n",
              " (0.0016732515566892144, 'Fatal_Crashes'),\n",
              " (0.0009446041235914831, 'Rte_Nm'),\n",
              " (0.0001620676783639874, 'Weather_Condition'),\n",
              " (3.7522659252828425e-05, 'Pedinjurytype')]"
            ]
          },
          "metadata": {
            "tags": []
          },
          "execution_count": 51
        }
      ]
    }
  ]
}